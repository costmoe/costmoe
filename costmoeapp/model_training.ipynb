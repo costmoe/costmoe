{
 "cells": [
  {
   "cell_type": "markdown",
   "metadata": {},
   "source": [
    "# Model Training and Calibrating"
   ]
  },
  {
   "cell_type": "code",
   "execution_count": null,
   "metadata": {
    "vscode": {
     "languageId": "plaintext"
    }
   },
   "outputs": [],
   "source": [
    "import pandas as pd\n",
    "import numpy as np\n",
    "import matplotlib.pyplot as plt\n",
    "import seaborn as sns\n",
    "from sklearn.model_selection import train_test_split\n",
    "from sklearn.preprocessing import StandardScaler, LabelEncoder\n",
    "from sklearn.ensemble import RandomForestRegressor\n",
    "from sklearn.metrics import mean_absolute_error, mean_squared_error, r2_score\n",
    "import joblib\n",
    "\n",
    "# Load the scraped data\n",
    "def load_data(file_path):\n",
    "    \"\"\"Loads scraped data from a CSV file.\"\"\"\n",
    "    return pd.read_csv(file_path)\n",
    "\n",
    "# Data preprocessing\n",
    "def preprocess_data(df):\n",
    "    \"\"\"Preprocesses scraped data by handling missing values, encoding categories, and scaling features.\"\"\"\n",
    "    df.dropna(inplace=True)\n",
    "    \n",
    "    # Encoding categorical features\n",
    "    label_encoders = {}\n",
    "    for col in ['category', 'brand']:  # Modify based on available categorical columns\n",
    "        if col in df.columns:\n",
    "            le = LabelEncoder()\n",
    "            df[col] = le.fit_transform(df[col])\n",
    "            label_encoders[col] = le\n",
    "    \n",
    "    # Scaling numerical features\n",
    "    scaler = StandardScaler()\n",
    "    if 'price' in df.columns:\n",
    "        df['price'] = scaler.fit_transform(df[['price']])\n",
    "    \n",
    "    return df, label_encoders, scaler\n",
    "\n",
    "# Train machine learning model\n",
    "def train_model(df):\n",
    "    \"\"\"Trains a RandomForest model to predict price or any other key metric.\"\"\"\n",
    "    X = df.drop(columns=['price'])  # Features (modify as needed)\n",
    "    y = df['price']  # Target variable\n",
    "    \n",
    "    X_train, X_test, y_train, y_test = train_test_split(X, y, test_size=0.2, random_state=42)\n",
    "    \n",
    "    model = RandomForestRegressor(n_estimators=100, random_state=42)\n",
    "    model.fit(X_train, y_train)\n",
    "    \n",
    "    # Predictions\n",
    "    y_pred = model.predict(X_test)\n",
    "    \n",
    "    # Evaluation\n",
    "    print(\"Mean Absolute Error:\", mean_absolute_error(y_test, y_pred))\n",
    "    print(\"Mean Squared Error:\", mean_squared_error(y_test, y_pred))\n",
    "    print(\"R-squared Score:\", r2_score(y_test, y_pred))\n",
    "    \n",
    "    return model\n",
    "\n",
    "# Save the trained model\n",
    "def save_model(model, scaler, label_encoders, filename='trained_model.pkl'):\n",
    "    \"\"\"Saves the trained model along with preprocessing objects.\"\"\"\n",
    "    joblib.dump({'model': model, 'scaler': scaler, 'label_encoders': label_encoders}, filename)\n",
    "    print(\"Model saved successfully!\")\n",
    "\n",
    "if __name__ == \"__main__\":\n",
    "    # Load and preprocess data\n",
    "    file_path = \"scraped_data.csv\"  # Update with actual path\n",
    "    data = load_data(file_path)\n",
    "    data, encoders, scaler = preprocess_data(data)\n",
    "    \n",
    "    # Train and save model\n",
    "    trained_model = train_model(data)\n",
    "    save_model(trained_model, scaler, encoders)\n"
   ]
  }
 ],
 "metadata": {
  "language_info": {
   "name": "python"
  }
 },
 "nbformat": 4,
 "nbformat_minor": 2
}
